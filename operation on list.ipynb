{
 "cells": [
  {
   "cell_type": "markdown",
   "id": "faf1535a-34dd-4549-aa41-907bf7717902",
   "metadata": {},
   "source": [
    "# introduction on list "
   ]
  },
  {
   "cell_type": "markdown",
   "id": "83d88144-36b9-41b9-9987-bf157426512a",
   "metadata": {},
   "source": [
    "## create a list "
   ]
  },
  {
   "cell_type": "code",
   "execution_count": 3,
   "id": "f9627eb2-6b48-4bc9-ac35-e91d97fe09b5",
   "metadata": {},
   "outputs": [
    {
     "name": "stdout",
     "output_type": "stream",
     "text": [
      "The list element  is: [10, 20, 30, 40]\n",
      "The list element of different values: ['joe', 20, 'devi', 22]\n"
     ]
    }
   ],
   "source": [
    "list1 = [10,20,30,40]\n",
    "list2 = [\"joe\", 20,\"devi\",22]\n",
    "print(\"The list element  is:\",list1)\n",
    "print(\"The list element of different values:\",list2)"
   ]
  },
  {
   "cell_type": "markdown",
   "id": "db35ef58-0205-46bc-ba34-47bb484dacc4",
   "metadata": {},
   "source": [
    "## insert element"
   ]
  },
  {
   "cell_type": "code",
   "execution_count": 4,
   "id": "8c6c6efb-5447-4028-bbdd-b6952b8b0f2d",
   "metadata": {},
   "outputs": [
    {
     "name": "stdout",
     "output_type": "stream",
     "text": [
      "After insert of the element: [10, 20, 60, 30, 40]\n",
      "After insert of the element: ['joe', 20, 'devi', 'hema', 22]\n"
     ]
    }
   ],
   "source": [
    "list1=[10,20,30,40]\n",
    "list2=[\"joe\",20,\"devi\",22]\n",
    "list1.insert(2,60)\n",
    "list2.insert(3,\"hema\")\n",
    "print(\"After insert of the element:\",list1)\n",
    "print(\"After insert of the element:\",list2)"
   ]
  },
  {
   "cell_type": "markdown",
   "id": "55166ccc-caed-4040-83fd-e8998bdb2dc3",
   "metadata": {},
   "source": [
    "## Append element"
   ]
  },
  {
   "cell_type": "code",
   "execution_count": 5,
   "id": "6c3ef3c5-732c-40fc-b7b3-7fe032da7ab6",
   "metadata": {},
   "outputs": [
    {
     "name": "stdout",
     "output_type": "stream",
     "text": [
      "After append: [10, 20, 30, 40, 40]\n",
      "After append: ['joe', 20, 'devi', 22, 'pravin']\n"
     ]
    }
   ],
   "source": [
    "list1=[10,20,30,40]\n",
    "list2=[\"joe\",20,\"devi\",22]\n",
    "list1.append(40)\n",
    "list2.append(\"pravin\")\n",
    "print(\"After append:\",list1)\n",
    "print(\"After append:\",list2)"
   ]
  },
  {
   "cell_type": "markdown",
   "id": "a2421c1b-b555-4d82-b6de-c22be3d246ea",
   "metadata": {},
   "source": [
    "## Update element"
   ]
  },
  {
   "cell_type": "code",
   "execution_count": 6,
   "id": "59b7eb40-ed7a-440d-9881-3e1b980f7300",
   "metadata": {},
   "outputs": [
    {
     "name": "stdout",
     "output_type": "stream",
     "text": [
      "After update: [10, 98, 30, 40]\n",
      "After update: ['joe', 20, 'pravin', 22]\n"
     ]
    }
   ],
   "source": [
    "list1=[10,20,30,40]\n",
    "list2=[\"joe\",20,\"devi\",22]\n",
    "list1[1]=98\n",
    "list2[2]=\"pravin\"\n",
    "print(\"After update:\",list1)\n",
    "print(\"After update:\",list2)"
   ]
  },
  {
   "cell_type": "markdown",
   "id": "0f870f8a-c3db-4ff8-bbc2-4369fe8b5b53",
   "metadata": {},
   "source": [
    "## Delete element by index & value"
   ]
  },
  {
   "cell_type": "code",
   "execution_count": 11,
   "id": "e80252e5-6efa-433e-ba48-ab5b5687994f",
   "metadata": {},
   "outputs": [
    {
     "name": "stdout",
     "output_type": "stream",
     "text": [
      "After deletion (by index): [10, 30, 40]\n",
      "After deletion (by value): [10, 20, 40]\n"
     ]
    }
   ],
   "source": [
    "list1=[10,20,30,40]\n",
    "del list1[1]\n",
    "print(\"After deletion (by index):\",list1)\n",
    "list2=[10,20,30,40]\n",
    "list2.remove (30)\n",
    "print(\"After deletion (by value):\",list2)"
   ]
  },
  {
   "cell_type": "markdown",
   "id": "f414b268-26f7-4f51-8efe-0b96c622dc0b",
   "metadata": {},
   "source": [
    "## Concatenate with another list"
   ]
  },
  {
   "cell_type": "code",
   "execution_count": 12,
   "id": "490527e0-126e-4d0b-96ee-9527efe52b96",
   "metadata": {},
   "outputs": [
    {
     "name": "stdout",
     "output_type": "stream",
     "text": [
      "concatenate list: [10, 20, 30, 40, 'joe', 20, 'devi', 22]\n"
     ]
    }
   ],
   "source": [
    "list1=[10,20,30,40]\n",
    "list2=[\"joe\",20,\"devi\",22]\n",
    "concatenate=list1+list2\n",
    "print(\"concatenate list:\",concatenate)"
   ]
  },
  {
   "cell_type": "markdown",
   "id": "73e94b0a-4159-415a-bdca-eada2de9db5c",
   "metadata": {},
   "source": [
    "## Length of the list"
   ]
  },
  {
   "cell_type": "code",
   "execution_count": 15,
   "id": "3289d9ec-4eef-45d0-81bf-fe77d20684e3",
   "metadata": {},
   "outputs": [
    {
     "name": "stdout",
     "output_type": "stream",
     "text": [
      "The length of the list is: 4\n"
     ]
    }
   ],
   "source": [
    "list1=[20,30,40,50]\n",
    "print(\"The length of the list is:\",len(list1))"
   ]
  },
  {
   "cell_type": "markdown",
   "id": "32a99a0c-af12-4a7a-ab99-e3c95663d33d",
   "metadata": {},
   "source": [
    "## Copy the list"
   ]
  },
  {
   "cell_type": "code",
   "execution_count": 16,
   "id": "f644ad6a-ee3d-47b4-8209-b2ce3f6cc13b",
   "metadata": {},
   "outputs": [
    {
     "name": "stdout",
     "output_type": "stream",
     "text": [
      "copied list: [20, 30, 40, 50]\n"
     ]
    }
   ],
   "source": [
    "list1=[20,30,40,50]\n",
    "copy_list=list1.copy()\n",
    "print(\"copied list:\",copy_list)"
   ]
  },
  {
   "cell_type": "markdown",
   "id": "2fbd789e-47bc-4ce5-b2e4-5536d3c223c4",
   "metadata": {},
   "source": [
    "# Operation on tuple"
   ]
  },
  {
   "cell_type": "markdown",
   "id": "313de739-851a-4e61-b642-13c6694b595d",
   "metadata": {},
   "source": [
    "## Create a tuple"
   ]
  },
  {
   "cell_type": "code",
   "execution_count": 18,
   "id": "da4c1b33-a388-4356-b137-6f5f8d4b4236",
   "metadata": {},
   "outputs": [
    {
     "name": "stdout",
     "output_type": "stream",
     "text": [
      "(10, 20, 30, 40)\n"
     ]
    }
   ],
   "source": [
    "tuple=(10,20,30,40)\n",
    "print(tuple)"
   ]
  },
  {
   "cell_type": "markdown",
   "id": "f38d1069-147b-45b5-b286-513f50e270da",
   "metadata": {},
   "source": [
    "## Print a element by indexing "
   ]
  },
  {
   "cell_type": "code",
   "execution_count": 19,
   "id": "6e31e067-624f-4567-9cce-53de63054ecc",
   "metadata": {},
   "outputs": [
    {
     "name": "stdout",
     "output_type": "stream",
     "text": [
      "The element of the tuple is: (10, 20, 30, 40, 50)\n"
     ]
    }
   ],
   "source": [
    "tuple=(10,20,30,40,50)\n",
    "print(\"The element of the tuple is:\",tuple)"
   ]
  },
  {
   "cell_type": "markdown",
   "id": "2b98d441-c102-4813-b246-7160b538b5de",
   "metadata": {},
   "source": [
    "## Slicing a element"
   ]
  },
  {
   "cell_type": "code",
   "execution_count": 21,
   "id": "4d91ceac-f7a5-43ce-a442-8f79ddb9cc3e",
   "metadata": {},
   "outputs": [
    {
     "name": "stdout",
     "output_type": "stream",
     "text": [
      "after silicing a element: (20, 30)\n"
     ]
    }
   ],
   "source": [
    "tuple=(10,20,30,40)\n",
    "print(\"after silicing a element:\",tuple[1:3])"
   ]
  },
  {
   "cell_type": "markdown",
   "id": "4a73e92b-4b1f-464c-b342-e7df98149cff",
   "metadata": {},
   "source": [
    "## Concatenate a tuple with another tuple"
   ]
  },
  {
   "cell_type": "code",
   "execution_count": 22,
   "id": "d2500484-1c68-4967-a460-e63c3ee3e0e6",
   "metadata": {},
   "outputs": [
    {
     "name": "stdout",
     "output_type": "stream",
     "text": [
      "concatenate of tuple: (1, 2, 3, 4, 5, 6, 7, 8)\n"
     ]
    }
   ],
   "source": [
    "tuple1=(1,2,3,4,5,6)\n",
    "tuple2=(7,8)\n",
    "con=tuple1+tuple2\n",
    "print(\"concatenate of tuple:\",con)"
   ]
  },
  {
   "cell_type": "markdown",
   "id": "353cae5f-8a33-422b-a1e9-60bb5671c182",
   "metadata": {},
   "source": [
    "## Repetation"
   ]
  },
  {
   "cell_type": "code",
   "execution_count": 24,
   "id": "829a3918-b910-4a4a-9e92-d6f80055c91b",
   "metadata": {},
   "outputs": [
    {
     "name": "stdout",
     "output_type": "stream",
     "text": [
      "repetation of the tuple: (10, 30, 10, 30, 10, 30, 10, 30)\n"
     ]
    }
   ],
   "source": [
    "tuple=(10,30)\n",
    "print(\"repetation of the tuple:\",tuple*4)"
   ]
  },
  {
   "cell_type": "markdown",
   "id": "1f7de523-ab80-4af5-9afe-deb386969a29",
   "metadata": {},
   "source": [
    "## Membership"
   ]
  },
  {
   "cell_type": "code",
   "execution_count": 26,
   "id": "44ce10f7-2332-48ee-a9a2-8aea7116a67d",
   "metadata": {},
   "outputs": [
    {
     "name": "stdout",
     "output_type": "stream",
     "text": [
      "True\n"
     ]
    }
   ],
   "source": [
    "tuple=(10,30,40)\n",
    "print(30 in tuple)"
   ]
  },
  {
   "cell_type": "markdown",
   "id": "9b214033-0ff3-436a-ad62-fad0f1934a5a",
   "metadata": {},
   "source": [
    "## Length "
   ]
  },
  {
   "cell_type": "code",
   "execution_count": 27,
   "id": "cc6cc463-82e2-4391-b9c1-a8703f0637d8",
   "metadata": {},
   "outputs": [
    {
     "name": "stdout",
     "output_type": "stream",
     "text": [
      "the length of the tuple is: 4\n"
     ]
    }
   ],
   "source": [
    "tuple=(10,20,30,40,)\n",
    "print(\"the length of the tuple is:\", len(tuple))"
   ]
  },
  {
   "cell_type": "markdown",
   "id": "c13a2eec-b50c-4252-92fc-0ab8495279ee",
   "metadata": {},
   "source": [
    "## Min & Max"
   ]
  },
  {
   "cell_type": "code",
   "execution_count": 29,
   "id": "ad74c066-a4e3-451a-a689-ef0c68499ff2",
   "metadata": {},
   "outputs": [
    {
     "name": "stdout",
     "output_type": "stream",
     "text": [
      "the minimum number of the tuple is: 1\n",
      "the maximum number of the tuple is: 5\n"
     ]
    }
   ],
   "source": [
    "tuple=(1,2,3,4,5)\n",
    "print(\"the minimum number of the tuple is:\",min(tuple))\n",
    "print(\"the maximum number of the tuple is:\",max(tuple))"
   ]
  },
  {
   "cell_type": "markdown",
   "id": "977a80f8-31ab-4685-975d-f49224999639",
   "metadata": {},
   "source": [
    "## Count"
   ]
  },
  {
   "cell_type": "code",
   "execution_count": 31,
   "id": "b4191e43-5617-4c26-baa6-41b8101395ab",
   "metadata": {},
   "outputs": [
    {
     "name": "stdout",
     "output_type": "stream",
     "text": [
      "the number of element present in tuple is: 3\n"
     ]
    }
   ],
   "source": [
    "tuple=(1,2,3,2,4,4,5,6,6,6,7,8,)\n",
    "num=tuple.count(6,)\n",
    "print(\"the number of element present in tuple is:\",num)"
   ]
  },
  {
   "cell_type": "markdown",
   "id": "eb5c2d10-e15c-4f0b-abfa-3d6bdad54cd4",
   "metadata": {},
   "source": [
    "# Operation on set"
   ]
  },
  {
   "cell_type": "markdown",
   "id": "18600674-59ee-4339-b984-07aaf391b041",
   "metadata": {},
   "source": [
    "## create a set"
   ]
  },
  {
   "cell_type": "code",
   "execution_count": 2,
   "id": "ef723e21-60cc-4e8c-8508-b7d86ea1909f",
   "metadata": {},
   "outputs": [
    {
     "name": "stdout",
     "output_type": "stream",
     "text": [
      "set element: {1, 2, 3, 4, 5}\n"
     ]
    }
   ],
   "source": [
    "set = {1,2,3,4,5}\n",
    "print(\"set element:\",set)"
   ]
  },
  {
   "cell_type": "markdown",
   "id": "b38d63e7-627d-4d7d-a082-d575dcd2a533",
   "metadata": {},
   "source": [
    "## Adding An Element "
   ]
  },
  {
   "cell_type": "code",
   "execution_count": 4,
   "id": "fc7a41d9-5b9e-4841-a164-e1bbd244eaad",
   "metadata": {},
   "outputs": [
    {
     "name": "stdout",
     "output_type": "stream",
     "text": [
      "after adding an element: {1, 2, 3, 4, 5, 6}\n"
     ]
    }
   ],
   "source": [
    "set={1,2,3,4,5}\n",
    "set.add(6,)\n",
    "print(\"after adding an element:\",set)"
   ]
  },
  {
   "cell_type": "markdown",
   "id": "ac9a2cca-087c-46fb-93c7-e7afc3645272",
   "metadata": {},
   "source": [
    "## Removing An Element"
   ]
  },
  {
   "cell_type": "code",
   "execution_count": 5,
   "id": "6df4a798-fda9-4bc4-8f56-3fd7965de992",
   "metadata": {},
   "outputs": [
    {
     "name": "stdout",
     "output_type": "stream",
     "text": [
      "after remove an element: {1, 2, 3, 5, 6}\n"
     ]
    }
   ],
   "source": [
    "set={1,2,3,4,5,6}\n",
    "set.remove(4)\n",
    "print(\"after remove an element:\",set)"
   ]
  },
  {
   "cell_type": "markdown",
   "id": "3e431457-5376-4f86-9cb5-c64c39d0b7e8",
   "metadata": {},
   "source": [
    " ## Union (A∪B)"
   ]
  },
  {
   "cell_type": "code",
   "execution_count": 1,
   "id": "15a6dfe8-4c8f-4133-9453-b7237197081e",
   "metadata": {},
   "outputs": [
    {
     "name": "stdout",
     "output_type": "stream",
     "text": [
      "union: {1, 2, 3, 4, 5, 6, 7, 8}\n"
     ]
    }
   ],
   "source": [
    "set1={1,2,3,4,5,6}\n",
    "set2={3,4,5,6,7,8}\n",
    "print(\"union:\",set1|set2)"
   ]
  },
  {
   "cell_type": "markdown",
   "id": "6c9a561f-3989-4842-a69b-dbbe2aec0d07",
   "metadata": {},
   "source": [
    " ## Intersection (A∩B)"
   ]
  },
  {
   "cell_type": "code",
   "execution_count": 3,
   "id": "022c6170-31b2-4228-9ef3-c3150246bd0a",
   "metadata": {},
   "outputs": [
    {
     "name": "stdout",
     "output_type": "stream",
     "text": [
      "Intersection: {3, 4, 5}\n"
     ]
    }
   ],
   "source": [
    "set1={1,2,3,4,5}\n",
    "set2={4,5,3,6,7}\n",
    "print(\"Intersection:\",set1&set2)"
   ]
  },
  {
   "cell_type": "markdown",
   "id": "ff719a74-5b67-45d0-a369-db604bd59010",
   "metadata": {},
   "source": [
    "## Difference(A-B)"
   ]
  },
  {
   "cell_type": "code",
   "execution_count": 4,
   "id": "353f66d8-185b-4ed8-93bd-1ddc740f312a",
   "metadata": {},
   "outputs": [
    {
     "name": "stdout",
     "output_type": "stream",
     "text": [
      "difference: {1, 2, 3, 4}\n"
     ]
    }
   ],
   "source": [
    "set1={1,2,3,4,5,6}\n",
    "set2={5,6,7,8,9}\n",
    "print(\"difference:\",set1-set2)"
   ]
  },
  {
   "cell_type": "markdown",
   "id": "6b6cfca2-1e8f-48ce-914b-aadaac17cd02",
   "metadata": {},
   "source": [
    "## *Symmetric Difference (A△B)*"
   ]
  },
  {
   "cell_type": "code",
   "execution_count": 5,
   "id": "1b2f78b2-368f-493b-9646-b70c86f27c2f",
   "metadata": {},
   "outputs": [
    {
     "name": "stdout",
     "output_type": "stream",
     "text": [
      "symmetric difference: {1, 2}\n"
     ]
    }
   ],
   "source": [
    "se1={1,2,3,4,5}\n",
    "set2={3,4,5,6,7,}\n",
    "print(\"symmetric difference:\",set1-set2)"
   ]
  },
  {
   "cell_type": "markdown",
   "id": "724d47e5-d58c-448a-a392-70712d830586",
   "metadata": {},
   "source": [
    "## Set relations"
   ]
  },
  {
   "cell_type": "code",
   "execution_count": 6,
   "id": "8dd3e25c-5c70-43ea-a98c-ac180628b95f",
   "metadata": {},
   "outputs": [
    {
     "name": "stdout",
     "output_type": "stream",
     "text": [
      "set1 is subset of set2: True\n",
      "set2 is subset of set1: False\n",
      "set2 is superset of set1: True\n",
      "set1 is disjoint with {6,7}: True\n"
     ]
    }
   ],
   "source": [
    "set1={1,2,3,4}\n",
    "set2={1,2,3,4,5,6}\n",
    "print(\"set1 is subset of set2:\",set1.issubset(set2))\n",
    "print(\"set2 is subset of set1:\",set2.issubset(set1))\n",
    "print(\"set2 is superset of set1:\",set2.issuperset(set1))\n",
    "print(\"set1 is disjoint with {6,7}:\",set1.isdisjoint({6,7}))"
   ]
  },
  {
   "cell_type": "markdown",
   "id": "09e9a9a7-ec1e-4d54-ab84-b9b45f2a9e76",
   "metadata": {},
   "source": [
    "## Length"
   ]
  },
  {
   "cell_type": "code",
   "execution_count": 7,
   "id": "ea438f29-f59b-4137-9611-94eb8adfe041",
   "metadata": {},
   "outputs": [
    {
     "name": "stdout",
     "output_type": "stream",
     "text": [
      "length: 5\n"
     ]
    }
   ],
   "source": [
    "set={1,2,3,4,5}\n",
    "print(\"length:\",len(set))"
   ]
  },
  {
   "cell_type": "markdown",
   "id": "cac29b8f-edab-4c85-9403-0808a78f1356",
   "metadata": {},
   "source": [
    "# Operation On Dictionary"
   ]
  },
  {
   "cell_type": "markdown",
   "id": "963e3540-389e-4faf-855e-47b3e7a141d0",
   "metadata": {},
   "source": [
    "## create a dictionary"
   ]
  },
  {
   "cell_type": "code",
   "execution_count": 8,
   "id": "7c93141e-511d-4a33-867c-a48b9722bf5e",
   "metadata": {},
   "outputs": [
    {
     "name": "stdout",
     "output_type": "stream",
     "text": [
      "dictionary: {'Name': 'joe', 'Age': 20, 'city': 'thanjavur'}\n"
     ]
    }
   ],
   "source": [
    "dict={\"Name\":\"joe\",\"Age\":20,\"city\":\"thanjavur\"}\n",
    "print(\"dictionary:\",dict)"
   ]
  },
  {
   "cell_type": "markdown",
   "id": "f71679ba-d580-4552-be46-b40ceda1979c",
   "metadata": {},
   "source": [
    "## Accessing Element"
   ]
  },
  {
   "cell_type": "code",
   "execution_count": 10,
   "id": "9675ec96-ca04-4826-b699-5298d1e36e6e",
   "metadata": {},
   "outputs": [
    {
     "name": "stdout",
     "output_type": "stream",
     "text": [
      "Name: joe\n"
     ]
    }
   ],
   "source": [
    "dict={\"Name\":\"joe\",\"Age\":20,\"city\":\"thanjavur\"}\n",
    "print(\"Name:\", dict[\"Name\"])"
   ]
  },
  {
   "cell_type": "markdown",
   "id": "14f0cf5a-869b-49b5-b376-74e920157fda",
   "metadata": {},
   "source": [
    "## Updating"
   ]
  },
  {
   "cell_type": "code",
   "execution_count": 12,
   "id": "b0bf2863-36a6-4c1c-804d-5c361286b53c",
   "metadata": {},
   "outputs": [
    {
     "name": "stdout",
     "output_type": "stream",
     "text": [
      "after updating age: {'Name': 'joe', 'Age': 22, 'city': 'thanjavur'}\n"
     ]
    }
   ],
   "source": [
    "dict={\"Name\":\"joe\",\"Age\":20,\"city\":\"thanjavur\"}\n",
    "dict[\"Age\"]=22\n",
    "print(\"after updating age:\",dict)"
   ]
  },
  {
   "cell_type": "markdown",
   "id": "124ae961-4318-429a-a0a5-ac0011563caf",
   "metadata": {},
   "source": [
    "## Adding element"
   ]
  },
  {
   "cell_type": "code",
   "execution_count": 13,
   "id": "a7219609-9db9-4e94-b746-9cc1dd0a2597",
   "metadata": {},
   "outputs": [
    {
     "name": "stdout",
     "output_type": "stream",
     "text": [
      "after adding: {'Name': 'joe', 'Age': 20, 'city': 'thanjavur', 'college': 'PMIST'}\n"
     ]
    }
   ],
   "source": [
    "dict={\"Name\":\"joe\",\"Age\":20,\"city\":\"thanjavur\"}\n",
    "dict[\"college\"]=\"PMIST\"\n",
    "print(\"after adding:\",dict)"
   ]
  },
  {
   "cell_type": "markdown",
   "id": "bd366a29-7a21-4737-9bc6-fe4b9d53ffdf",
   "metadata": {},
   "source": [
    "## Removing elements"
   ]
  },
  {
   "cell_type": "code",
   "execution_count": 15,
   "id": "29541cb4-cd68-4e3a-a007-d418e1290106",
   "metadata": {},
   "outputs": [
    {
     "name": "stdout",
     "output_type": "stream",
     "text": [
      "after pop: {'Name': 'joe', 'Age': 20}\n"
     ]
    }
   ],
   "source": [
    "dict={\"Name\":\"joe\",\"Age\":20,\"city\":\"thanjavur\"}\n",
    "dict.pop(\"city\")\n",
    "print(\"after pop:\",dict)"
   ]
  },
  {
   "cell_type": "markdown",
   "id": "efe92c65-360a-4a8a-b2a5-941f588ce075",
   "metadata": {},
   "source": [
    "## Loop Through Dictionary "
   ]
  },
  {
   "cell_type": "code",
   "execution_count": 17,
   "id": "d873a409-2ed8-4fb1-b7f1-c2d0edee1714",
   "metadata": {},
   "outputs": [
    {
     "name": "stdout",
     "output_type": "stream",
     "text": [
      "keys:\n",
      "Age\n",
      "city\n"
     ]
    }
   ],
   "source": [
    "dict={\"Age\":19,\"city\":\"thanjavur\"}\n",
    "print(\"keys:\")\n",
    "for i in dict.keys():\n",
    "    print(i)"
   ]
  },
  {
   "cell_type": "markdown",
   "id": "3065ab0b-3e27-47ad-9cf7-1b4280ddb5f6",
   "metadata": {},
   "source": [
    "## Dictionary Methods"
   ]
  },
  {
   "cell_type": "code",
   "execution_count": null,
   "id": "ba5f6ce6-b1b6-4b94-93a3-388ba6a1d1d0",
   "metadata": {},
   "outputs": [],
   "source": [
    "dict={\"Name\":,\"joe\",\"Age\":20,\"city\":\"thanjavur\"}\n",
    "print(\"keys:\",dict.keys())\n",
    "print(\"values:\",dict.values())\n",
    "print(\"items:\",dict"
   ]
  }
 ],
 "metadata": {
  "kernelspec": {
   "display_name": "Python 3 (ipykernel)",
   "language": "python",
   "name": "python3"
  },
  "language_info": {
   "codemirror_mode": {
    "name": "ipython",
    "version": 3
   },
   "file_extension": ".py",
   "mimetype": "text/x-python",
   "name": "python",
   "nbconvert_exporter": "python",
   "pygments_lexer": "ipython3",
   "version": "3.13.5"
  }
 },
 "nbformat": 4,
 "nbformat_minor": 5
}
